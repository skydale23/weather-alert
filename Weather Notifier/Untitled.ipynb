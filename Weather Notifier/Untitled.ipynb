{
 "cells": [
  {
   "cell_type": "code",
   "execution_count": 19,
   "metadata": {},
   "outputs": [],
   "source": [
    "import pyowm\n",
    "import requests"
   ]
  },
  {
   "cell_type": "code",
   "execution_count": 29,
   "metadata": {},
   "outputs": [
    {
     "name": "stdout",
     "output_type": "stream",
     "text": [
      "{'temp': 270.97, 'temp_max': 274.15, 'temp_min': 267.05, 'temp_kf': None}\n"
     ]
    }
   ],
   "source": [
    "owm = pyowm.OWM('08ce08de126e25469062d11550ee8e4c') \n",
    "observation = owm.weather_at_place('Nanuet,New York')\n",
    "w = observation.get_weather()\n",
    "print(w.get_temperature())"
   ]
  },
  {
   "cell_type": "code",
   "execution_count": 22,
   "metadata": {},
   "outputs": [],
   "source": [
    "params = {'q': 'London', 'num_of_days' : 1, 'key' : 'fb52b7f7c02a48d782560339191301'}\n",
    "response = requests.get(\"http://api.worldweatheronline.com/free/v2/weather.ashx\")"
   ]
  },
  {
   "cell_type": "code",
   "execution_count": 23,
   "metadata": {},
   "outputs": [
    {
     "data": {
      "text/plain": [
       "<Response [400]>"
      ]
     },
     "execution_count": 23,
     "metadata": {},
     "output_type": "execute_result"
    }
   ],
   "source": [
    "response"
   ]
  },
  {
   "cell_type": "code",
   "execution_count": null,
   "metadata": {},
   "outputs": [],
   "source": [
    "#Open Weather Map Key = 08ce08de126e25469062d11550ee8e4c\n",
    "#World Weather Online key = fb52b7f7c02a48d782560339191301"
   ]
  }
 ],
 "metadata": {
  "kernelspec": {
   "display_name": "Python 3",
   "language": "python",
   "name": "python3"
  },
  "language_info": {
   "codemirror_mode": {
    "name": "ipython",
    "version": 3
   },
   "file_extension": ".py",
   "mimetype": "text/x-python",
   "name": "python",
   "nbconvert_exporter": "python",
   "pygments_lexer": "ipython3",
   "version": "3.6.4"
  }
 },
 "nbformat": 4,
 "nbformat_minor": 2
}
