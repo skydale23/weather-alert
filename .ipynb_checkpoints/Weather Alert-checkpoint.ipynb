{
 "cells": [
  {
   "cell_type": "markdown",
   "metadata": {},
   "source": [
    "### Import Packages"
   ]
  },
  {
   "cell_type": "code",
   "execution_count": 2,
   "metadata": {},
   "outputs": [],
   "source": [
    "import smtplib\n",
    "#import schedule\n",
    "import time\n",
    "import pytz\n",
    "import pyowm\n",
    "import pandas as pd\n",
    "import datetime \n",
    "import json\n",
    "import pickle"
   ]
  },
  {
   "cell_type": "code",
   "execution_count": 21,
   "metadata": {},
   "outputs": [],
   "source": [
    "from pyowm.owm import OWM\n",
    "owm = OWM('08ce08de126e25469062d11550ee8e4c')\n",
    "mgr = owm.weather_manager()\n",
    "weather = mgr.weather_at_place('New York, New York').weather\n",
    "#weather = mgr.forecast_at_place('New York, New York', 'daily')\n",
    "#weather = mgr.weather_at_place('Detroit, Michigan').weather\n",
    "temp_dict_fahrenheit = weather.temperature('fahrenheit')  # a dict in Fahrenheit units\n",
    "#temp_dict_celsius = weather.temperature('celsius')  # guess?\n"
   ]
  },
  {
   "cell_type": "code",
   "execution_count": 45,
   "metadata": {},
   "outputs": [],
   "source": [
    "from pyowm.owm import OWM\n",
    "owm = OWM('08ce08de126e25469062d11550ee8e4c')\n",
    "mgr = owm.weather_manager()\n",
    "weather = mgr.weather_at_place('Detroit, Michigan')\n"
   ]
  },
  {
   "cell_type": "code",
   "execution_count": 139,
   "metadata": {},
   "outputs": [],
   "source": [
    "def get_long_lat(address_string):\n",
    "    \n",
    "    geolocator = Nominatim(user_agent = 'test')\n",
    "\n",
    "    location = geolocator.geocode(address_string)\n",
    "    print(\"Address not found. Please enter a valid address\")\n",
    "\n",
    "    latitude = location.latitude\n",
    "    longitude = location.longitude\n",
    "    return latitude, longitude\n",
    "\n",
    "def test_script():\n",
    "    get_long_lat(\"not a real address\")\n",
    "    print(\"we still going\")\n",
    "    "
   ]
  },
  {
   "cell_type": "code",
   "execution_count": 140,
   "metadata": {},
   "outputs": [
    {
     "ename": "AttributeError",
     "evalue": "'NoneType' object has no attribute 'latitude'",
     "output_type": "error",
     "traceback": [
      "\u001b[0;31m---------------------------------------------------------------------------\u001b[0m",
      "\u001b[0;31mAttributeError\u001b[0m                            Traceback (most recent call last)",
      "\u001b[0;32m/var/folders/2g/465yxy_x4g786jx2llr5xqh40000gn/T/ipykernel_66980/933258055.py\u001b[0m in \u001b[0;36m<module>\u001b[0;34m\u001b[0m\n\u001b[0;32m----> 1\u001b[0;31m \u001b[0mtest_script\u001b[0m\u001b[0;34m(\u001b[0m\u001b[0;34m)\u001b[0m\u001b[0;34m\u001b[0m\u001b[0;34m\u001b[0m\u001b[0m\n\u001b[0m",
      "\u001b[0;32m/var/folders/2g/465yxy_x4g786jx2llr5xqh40000gn/T/ipykernel_66980/373261029.py\u001b[0m in \u001b[0;36mtest_script\u001b[0;34m()\u001b[0m\n\u001b[1;32m     13\u001b[0m \u001b[0;34m\u001b[0m\u001b[0m\n\u001b[1;32m     14\u001b[0m \u001b[0;32mdef\u001b[0m \u001b[0mtest_script\u001b[0m\u001b[0;34m(\u001b[0m\u001b[0;34m)\u001b[0m\u001b[0;34m:\u001b[0m\u001b[0;34m\u001b[0m\u001b[0;34m\u001b[0m\u001b[0m\n\u001b[0;32m---> 15\u001b[0;31m     \u001b[0mget_long_lat\u001b[0m\u001b[0;34m(\u001b[0m\u001b[0;34m\"not a real address\"\u001b[0m\u001b[0;34m)\u001b[0m\u001b[0;34m\u001b[0m\u001b[0;34m\u001b[0m\u001b[0m\n\u001b[0m\u001b[1;32m     16\u001b[0m     \u001b[0mprint\u001b[0m\u001b[0;34m(\u001b[0m\u001b[0;34m\"we still going\"\u001b[0m\u001b[0;34m)\u001b[0m\u001b[0;34m\u001b[0m\u001b[0;34m\u001b[0m\u001b[0m\n\u001b[1;32m     17\u001b[0m \u001b[0;34m\u001b[0m\u001b[0m\n",
      "\u001b[0;32m/var/folders/2g/465yxy_x4g786jx2llr5xqh40000gn/T/ipykernel_66980/373261029.py\u001b[0m in \u001b[0;36mget_long_lat\u001b[0;34m(address_string)\u001b[0m\n\u001b[1;32m      8\u001b[0m         \u001b[0mprint\u001b[0m\u001b[0;34m(\u001b[0m\u001b[0;34m\"Address not found. Please enter a valid address\"\u001b[0m\u001b[0;34m)\u001b[0m\u001b[0;34m\u001b[0m\u001b[0;34m\u001b[0m\u001b[0m\n\u001b[1;32m      9\u001b[0m     \u001b[0;32melse\u001b[0m\u001b[0;34m:\u001b[0m\u001b[0;34m\u001b[0m\u001b[0;34m\u001b[0m\u001b[0m\n\u001b[0;32m---> 10\u001b[0;31m         \u001b[0mlatitude\u001b[0m \u001b[0;34m=\u001b[0m \u001b[0mlocation\u001b[0m\u001b[0;34m.\u001b[0m\u001b[0mlatitude\u001b[0m\u001b[0;34m\u001b[0m\u001b[0;34m\u001b[0m\u001b[0m\n\u001b[0m\u001b[1;32m     11\u001b[0m         \u001b[0mlongitude\u001b[0m \u001b[0;34m=\u001b[0m \u001b[0mlocation\u001b[0m\u001b[0;34m.\u001b[0m\u001b[0mlongitude\u001b[0m\u001b[0;34m\u001b[0m\u001b[0;34m\u001b[0m\u001b[0m\n\u001b[1;32m     12\u001b[0m         \u001b[0;32mreturn\u001b[0m \u001b[0mlatitude\u001b[0m\u001b[0;34m,\u001b[0m \u001b[0mlongitude\u001b[0m\u001b[0;34m\u001b[0m\u001b[0;34m\u001b[0m\u001b[0m\n",
      "\u001b[0;31mAttributeError\u001b[0m: 'NoneType' object has no attribute 'latitude'"
     ]
    }
   ],
   "source": [
    "test_script()"
   ]
  },
  {
   "cell_type": "code",
   "execution_count": 126,
   "metadata": {},
   "outputs": [],
   "source": [
    "from pyowm.owm import OWM\n",
    "owm = OWM('08ce08de126e25469062d11550ee8e4c')\n",
    "mgr = owm.weather_manager()\n",
    "one_call = mgr.one_call(lat, long)\n",
    "\n",
    "#one_call.forecast_daily[0].temperature('celsius').get('feels_like_morn', None) #Ex.: 7.7"
   ]
  },
  {
   "cell_type": "code",
   "execution_count": 131,
   "metadata": {},
   "outputs": [
    {
     "name": "stdout",
     "output_type": "stream",
     "text": [
      "{'day': 37.65, 'min': 31.62, 'max': 38.08, 'night': 33.67, 'eve': 35.42, 'morn': 32.0, 'feels_like_day': 28.96, 'feels_like_night': 27.82, 'feels_like_eve': 27.75, 'feels_like_morn': 22.01}\n"
     ]
    },
    {
     "data": {
      "text/plain": [
       "0"
      ]
     },
     "execution_count": 131,
     "metadata": {},
     "output_type": "execute_result"
    }
   ],
   "source": [
    "fc = one_call.forecast_daily[0]\n",
    "\n",
    "fc.temperature('fahrenheit')\n",
    "rain = 1 if len(fc.rain) > 0 else 0  \n",
    "snow = 1 if len(fc.snow) > 0 else 0\n",
    "precip_prob = fc.precipitation_probability\n",
    "min_temp = fc.temperature('fahrenheit')['min']\n",
    "max_temp = fc.temperature('fahrenheit')['max']"
   ]
  },
  {
   "cell_type": "code",
   "execution_count": 136,
   "metadata": {},
   "outputs": [
    {
     "data": {
      "text/plain": [
       "pyowm.weatherapi25.weather.Weather"
      ]
     },
     "execution_count": 136,
     "metadata": {},
     "output_type": "execute_result"
    }
   ],
   "source": [
    "fc = one_call.forecast_daily[0]\n",
    "type(fc)"
   ]
  },
  {
   "cell_type": "code",
   "execution_count": 57,
   "metadata": {},
   "outputs": [
    {
     "data": {
      "text/plain": [
       "{'lat': 38.9271,\n",
       " 'lon': -77.054,\n",
       " 'timezone': 'America/New_York',\n",
       " 'current': <pyowm.weatherapi25.weather.Weather - reference_time=2021-11-25 04:27:28+00:00, status=clouds, detailed_status=broken clouds>,\n",
       " 'forecast_minutely': [<pyowm.weatherapi25.weather.Weather - reference_time=2021-11-25 04:28:00+00:00, status=, detailed_status=>,\n",
       "  <pyowm.weatherapi25.weather.Weather - reference_time=2021-11-25 04:29:00+00:00, status=, detailed_status=>,\n",
       "  <pyowm.weatherapi25.weather.Weather - reference_time=2021-11-25 04:30:00+00:00, status=, detailed_status=>,\n",
       "  <pyowm.weatherapi25.weather.Weather - reference_time=2021-11-25 04:31:00+00:00, status=, detailed_status=>,\n",
       "  <pyowm.weatherapi25.weather.Weather - reference_time=2021-11-25 04:32:00+00:00, status=, detailed_status=>,\n",
       "  <pyowm.weatherapi25.weather.Weather - reference_time=2021-11-25 04:33:00+00:00, status=, detailed_status=>,\n",
       "  <pyowm.weatherapi25.weather.Weather - reference_time=2021-11-25 04:34:00+00:00, status=, detailed_status=>,\n",
       "  <pyowm.weatherapi25.weather.Weather - reference_time=2021-11-25 04:35:00+00:00, status=, detailed_status=>,\n",
       "  <pyowm.weatherapi25.weather.Weather - reference_time=2021-11-25 04:36:00+00:00, status=, detailed_status=>,\n",
       "  <pyowm.weatherapi25.weather.Weather - reference_time=2021-11-25 04:37:00+00:00, status=, detailed_status=>,\n",
       "  <pyowm.weatherapi25.weather.Weather - reference_time=2021-11-25 04:38:00+00:00, status=, detailed_status=>,\n",
       "  <pyowm.weatherapi25.weather.Weather - reference_time=2021-11-25 04:39:00+00:00, status=, detailed_status=>,\n",
       "  <pyowm.weatherapi25.weather.Weather - reference_time=2021-11-25 04:40:00+00:00, status=, detailed_status=>,\n",
       "  <pyowm.weatherapi25.weather.Weather - reference_time=2021-11-25 04:41:00+00:00, status=, detailed_status=>,\n",
       "  <pyowm.weatherapi25.weather.Weather - reference_time=2021-11-25 04:42:00+00:00, status=, detailed_status=>,\n",
       "  <pyowm.weatherapi25.weather.Weather - reference_time=2021-11-25 04:43:00+00:00, status=, detailed_status=>,\n",
       "  <pyowm.weatherapi25.weather.Weather - reference_time=2021-11-25 04:44:00+00:00, status=, detailed_status=>,\n",
       "  <pyowm.weatherapi25.weather.Weather - reference_time=2021-11-25 04:45:00+00:00, status=, detailed_status=>,\n",
       "  <pyowm.weatherapi25.weather.Weather - reference_time=2021-11-25 04:46:00+00:00, status=, detailed_status=>,\n",
       "  <pyowm.weatherapi25.weather.Weather - reference_time=2021-11-25 04:47:00+00:00, status=, detailed_status=>,\n",
       "  <pyowm.weatherapi25.weather.Weather - reference_time=2021-11-25 04:48:00+00:00, status=, detailed_status=>,\n",
       "  <pyowm.weatherapi25.weather.Weather - reference_time=2021-11-25 04:49:00+00:00, status=, detailed_status=>,\n",
       "  <pyowm.weatherapi25.weather.Weather - reference_time=2021-11-25 04:50:00+00:00, status=, detailed_status=>,\n",
       "  <pyowm.weatherapi25.weather.Weather - reference_time=2021-11-25 04:51:00+00:00, status=, detailed_status=>,\n",
       "  <pyowm.weatherapi25.weather.Weather - reference_time=2021-11-25 04:52:00+00:00, status=, detailed_status=>,\n",
       "  <pyowm.weatherapi25.weather.Weather - reference_time=2021-11-25 04:53:00+00:00, status=, detailed_status=>,\n",
       "  <pyowm.weatherapi25.weather.Weather - reference_time=2021-11-25 04:54:00+00:00, status=, detailed_status=>,\n",
       "  <pyowm.weatherapi25.weather.Weather - reference_time=2021-11-25 04:55:00+00:00, status=, detailed_status=>,\n",
       "  <pyowm.weatherapi25.weather.Weather - reference_time=2021-11-25 04:56:00+00:00, status=, detailed_status=>,\n",
       "  <pyowm.weatherapi25.weather.Weather - reference_time=2021-11-25 04:57:00+00:00, status=, detailed_status=>,\n",
       "  <pyowm.weatherapi25.weather.Weather - reference_time=2021-11-25 04:58:00+00:00, status=, detailed_status=>,\n",
       "  <pyowm.weatherapi25.weather.Weather - reference_time=2021-11-25 04:59:00+00:00, status=, detailed_status=>,\n",
       "  <pyowm.weatherapi25.weather.Weather - reference_time=2021-11-25 05:00:00+00:00, status=, detailed_status=>,\n",
       "  <pyowm.weatherapi25.weather.Weather - reference_time=2021-11-25 05:01:00+00:00, status=, detailed_status=>,\n",
       "  <pyowm.weatherapi25.weather.Weather - reference_time=2021-11-25 05:02:00+00:00, status=, detailed_status=>,\n",
       "  <pyowm.weatherapi25.weather.Weather - reference_time=2021-11-25 05:03:00+00:00, status=, detailed_status=>,\n",
       "  <pyowm.weatherapi25.weather.Weather - reference_time=2021-11-25 05:04:00+00:00, status=, detailed_status=>,\n",
       "  <pyowm.weatherapi25.weather.Weather - reference_time=2021-11-25 05:05:00+00:00, status=, detailed_status=>,\n",
       "  <pyowm.weatherapi25.weather.Weather - reference_time=2021-11-25 05:06:00+00:00, status=, detailed_status=>,\n",
       "  <pyowm.weatherapi25.weather.Weather - reference_time=2021-11-25 05:07:00+00:00, status=, detailed_status=>,\n",
       "  <pyowm.weatherapi25.weather.Weather - reference_time=2021-11-25 05:08:00+00:00, status=, detailed_status=>,\n",
       "  <pyowm.weatherapi25.weather.Weather - reference_time=2021-11-25 05:09:00+00:00, status=, detailed_status=>,\n",
       "  <pyowm.weatherapi25.weather.Weather - reference_time=2021-11-25 05:10:00+00:00, status=, detailed_status=>,\n",
       "  <pyowm.weatherapi25.weather.Weather - reference_time=2021-11-25 05:11:00+00:00, status=, detailed_status=>,\n",
       "  <pyowm.weatherapi25.weather.Weather - reference_time=2021-11-25 05:12:00+00:00, status=, detailed_status=>,\n",
       "  <pyowm.weatherapi25.weather.Weather - reference_time=2021-11-25 05:13:00+00:00, status=, detailed_status=>,\n",
       "  <pyowm.weatherapi25.weather.Weather - reference_time=2021-11-25 05:14:00+00:00, status=, detailed_status=>,\n",
       "  <pyowm.weatherapi25.weather.Weather - reference_time=2021-11-25 05:15:00+00:00, status=, detailed_status=>,\n",
       "  <pyowm.weatherapi25.weather.Weather - reference_time=2021-11-25 05:16:00+00:00, status=, detailed_status=>,\n",
       "  <pyowm.weatherapi25.weather.Weather - reference_time=2021-11-25 05:17:00+00:00, status=, detailed_status=>,\n",
       "  <pyowm.weatherapi25.weather.Weather - reference_time=2021-11-25 05:18:00+00:00, status=, detailed_status=>,\n",
       "  <pyowm.weatherapi25.weather.Weather - reference_time=2021-11-25 05:19:00+00:00, status=, detailed_status=>,\n",
       "  <pyowm.weatherapi25.weather.Weather - reference_time=2021-11-25 05:20:00+00:00, status=, detailed_status=>,\n",
       "  <pyowm.weatherapi25.weather.Weather - reference_time=2021-11-25 05:21:00+00:00, status=, detailed_status=>,\n",
       "  <pyowm.weatherapi25.weather.Weather - reference_time=2021-11-25 05:22:00+00:00, status=, detailed_status=>,\n",
       "  <pyowm.weatherapi25.weather.Weather - reference_time=2021-11-25 05:23:00+00:00, status=, detailed_status=>,\n",
       "  <pyowm.weatherapi25.weather.Weather - reference_time=2021-11-25 05:24:00+00:00, status=, detailed_status=>,\n",
       "  <pyowm.weatherapi25.weather.Weather - reference_time=2021-11-25 05:25:00+00:00, status=, detailed_status=>,\n",
       "  <pyowm.weatherapi25.weather.Weather - reference_time=2021-11-25 05:26:00+00:00, status=, detailed_status=>,\n",
       "  <pyowm.weatherapi25.weather.Weather - reference_time=2021-11-25 05:27:00+00:00, status=, detailed_status=>,\n",
       "  <pyowm.weatherapi25.weather.Weather - reference_time=2021-11-25 05:28:00+00:00, status=, detailed_status=>],\n",
       " 'forecast_hourly': [<pyowm.weatherapi25.weather.Weather - reference_time=2021-11-25 04:00:00+00:00, status=clouds, detailed_status=broken clouds>,\n",
       "  <pyowm.weatherapi25.weather.Weather - reference_time=2021-11-25 05:00:00+00:00, status=clouds, detailed_status=broken clouds>,\n",
       "  <pyowm.weatherapi25.weather.Weather - reference_time=2021-11-25 06:00:00+00:00, status=clouds, detailed_status=broken clouds>,\n",
       "  <pyowm.weatherapi25.weather.Weather - reference_time=2021-11-25 07:00:00+00:00, status=clouds, detailed_status=broken clouds>,\n",
       "  <pyowm.weatherapi25.weather.Weather - reference_time=2021-11-25 08:00:00+00:00, status=clouds, detailed_status=broken clouds>,\n",
       "  <pyowm.weatherapi25.weather.Weather - reference_time=2021-11-25 09:00:00+00:00, status=clouds, detailed_status=overcast clouds>,\n",
       "  <pyowm.weatherapi25.weather.Weather - reference_time=2021-11-25 10:00:00+00:00, status=clouds, detailed_status=overcast clouds>,\n",
       "  <pyowm.weatherapi25.weather.Weather - reference_time=2021-11-25 11:00:00+00:00, status=clouds, detailed_status=overcast clouds>,\n",
       "  <pyowm.weatherapi25.weather.Weather - reference_time=2021-11-25 12:00:00+00:00, status=clouds, detailed_status=overcast clouds>,\n",
       "  <pyowm.weatherapi25.weather.Weather - reference_time=2021-11-25 13:00:00+00:00, status=clouds, detailed_status=overcast clouds>,\n",
       "  <pyowm.weatherapi25.weather.Weather - reference_time=2021-11-25 14:00:00+00:00, status=clouds, detailed_status=overcast clouds>,\n",
       "  <pyowm.weatherapi25.weather.Weather - reference_time=2021-11-25 15:00:00+00:00, status=clouds, detailed_status=overcast clouds>,\n",
       "  <pyowm.weatherapi25.weather.Weather - reference_time=2021-11-25 16:00:00+00:00, status=clouds, detailed_status=overcast clouds>,\n",
       "  <pyowm.weatherapi25.weather.Weather - reference_time=2021-11-25 17:00:00+00:00, status=clouds, detailed_status=overcast clouds>,\n",
       "  <pyowm.weatherapi25.weather.Weather - reference_time=2021-11-25 18:00:00+00:00, status=clouds, detailed_status=overcast clouds>,\n",
       "  <pyowm.weatherapi25.weather.Weather - reference_time=2021-11-25 19:00:00+00:00, status=clouds, detailed_status=overcast clouds>,\n",
       "  <pyowm.weatherapi25.weather.Weather - reference_time=2021-11-25 20:00:00+00:00, status=clouds, detailed_status=broken clouds>,\n",
       "  <pyowm.weatherapi25.weather.Weather - reference_time=2021-11-25 21:00:00+00:00, status=clouds, detailed_status=broken clouds>,\n",
       "  <pyowm.weatherapi25.weather.Weather - reference_time=2021-11-25 22:00:00+00:00, status=clouds, detailed_status=broken clouds>,\n",
       "  <pyowm.weatherapi25.weather.Weather - reference_time=2021-11-25 23:00:00+00:00, status=clouds, detailed_status=broken clouds>,\n",
       "  <pyowm.weatherapi25.weather.Weather - reference_time=2021-11-26 00:00:00+00:00, status=clouds, detailed_status=broken clouds>,\n",
       "  <pyowm.weatherapi25.weather.Weather - reference_time=2021-11-26 01:00:00+00:00, status=clouds, detailed_status=overcast clouds>,\n",
       "  <pyowm.weatherapi25.weather.Weather - reference_time=2021-11-26 02:00:00+00:00, status=clouds, detailed_status=overcast clouds>,\n",
       "  <pyowm.weatherapi25.weather.Weather - reference_time=2021-11-26 03:00:00+00:00, status=clouds, detailed_status=overcast clouds>,\n",
       "  <pyowm.weatherapi25.weather.Weather - reference_time=2021-11-26 04:00:00+00:00, status=clouds, detailed_status=overcast clouds>,\n",
       "  <pyowm.weatherapi25.weather.Weather - reference_time=2021-11-26 05:00:00+00:00, status=rain, detailed_status=light rain>,\n",
       "  <pyowm.weatherapi25.weather.Weather - reference_time=2021-11-26 06:00:00+00:00, status=rain, detailed_status=light rain>,\n",
       "  <pyowm.weatherapi25.weather.Weather - reference_time=2021-11-26 07:00:00+00:00, status=rain, detailed_status=light rain>,\n",
       "  <pyowm.weatherapi25.weather.Weather - reference_time=2021-11-26 08:00:00+00:00, status=clouds, detailed_status=overcast clouds>,\n",
       "  <pyowm.weatherapi25.weather.Weather - reference_time=2021-11-26 09:00:00+00:00, status=clouds, detailed_status=overcast clouds>,\n",
       "  <pyowm.weatherapi25.weather.Weather - reference_time=2021-11-26 10:00:00+00:00, status=clouds, detailed_status=overcast clouds>,\n",
       "  <pyowm.weatherapi25.weather.Weather - reference_time=2021-11-26 11:00:00+00:00, status=clouds, detailed_status=overcast clouds>,\n",
       "  <pyowm.weatherapi25.weather.Weather - reference_time=2021-11-26 12:00:00+00:00, status=clouds, detailed_status=overcast clouds>,\n",
       "  <pyowm.weatherapi25.weather.Weather - reference_time=2021-11-26 13:00:00+00:00, status=clear, detailed_status=clear sky>,\n",
       "  <pyowm.weatherapi25.weather.Weather - reference_time=2021-11-26 14:00:00+00:00, status=clear, detailed_status=clear sky>,\n",
       "  <pyowm.weatherapi25.weather.Weather - reference_time=2021-11-26 15:00:00+00:00, status=clear, detailed_status=clear sky>,\n",
       "  <pyowm.weatherapi25.weather.Weather - reference_time=2021-11-26 16:00:00+00:00, status=clear, detailed_status=clear sky>,\n",
       "  <pyowm.weatherapi25.weather.Weather - reference_time=2021-11-26 17:00:00+00:00, status=clear, detailed_status=clear sky>,\n",
       "  <pyowm.weatherapi25.weather.Weather - reference_time=2021-11-26 18:00:00+00:00, status=clear, detailed_status=clear sky>,\n",
       "  <pyowm.weatherapi25.weather.Weather - reference_time=2021-11-26 19:00:00+00:00, status=clear, detailed_status=clear sky>,\n",
       "  <pyowm.weatherapi25.weather.Weather - reference_time=2021-11-26 20:00:00+00:00, status=clear, detailed_status=clear sky>,\n",
       "  <pyowm.weatherapi25.weather.Weather - reference_time=2021-11-26 21:00:00+00:00, status=clear, detailed_status=clear sky>,\n",
       "  <pyowm.weatherapi25.weather.Weather - reference_time=2021-11-26 22:00:00+00:00, status=clear, detailed_status=clear sky>,\n",
       "  <pyowm.weatherapi25.weather.Weather - reference_time=2021-11-26 23:00:00+00:00, status=clear, detailed_status=clear sky>,\n",
       "  <pyowm.weatherapi25.weather.Weather - reference_time=2021-11-27 00:00:00+00:00, status=clear, detailed_status=clear sky>,\n",
       "  <pyowm.weatherapi25.weather.Weather - reference_time=2021-11-27 01:00:00+00:00, status=clouds, detailed_status=overcast clouds>,\n",
       "  <pyowm.weatherapi25.weather.Weather - reference_time=2021-11-27 02:00:00+00:00, status=clouds, detailed_status=overcast clouds>,\n",
       "  <pyowm.weatherapi25.weather.Weather - reference_time=2021-11-27 03:00:00+00:00, status=clouds, detailed_status=broken clouds>],\n",
       " 'forecast_daily': [<pyowm.weatherapi25.weather.Weather - reference_time=2021-11-24 16:00:00+00:00, status=clear, detailed_status=clear sky>,\n",
       "  <pyowm.weatherapi25.weather.Weather - reference_time=2021-11-25 16:00:00+00:00, status=clouds, detailed_status=overcast clouds>,\n",
       "  <pyowm.weatherapi25.weather.Weather - reference_time=2021-11-26 16:00:00+00:00, status=rain, detailed_status=light rain>,\n",
       "  <pyowm.weatherapi25.weather.Weather - reference_time=2021-11-27 16:00:00+00:00, status=clear, detailed_status=clear sky>,\n",
       "  <pyowm.weatherapi25.weather.Weather - reference_time=2021-11-28 16:00:00+00:00, status=snow, detailed_status=rain and snow>,\n",
       "  <pyowm.weatherapi25.weather.Weather - reference_time=2021-11-29 16:00:00+00:00, status=clouds, detailed_status=few clouds>,\n",
       "  <pyowm.weatherapi25.weather.Weather - reference_time=2021-11-30 16:00:00+00:00, status=clear, detailed_status=clear sky>,\n",
       "  <pyowm.weatherapi25.weather.Weather - reference_time=2021-12-01 16:00:00+00:00, status=clouds, detailed_status=overcast clouds>]}"
      ]
     },
     "execution_count": 57,
     "metadata": {},
     "output_type": "execute_result"
    }
   ],
   "source": [
    "one_call.__dict__"
   ]
  },
  {
   "cell_type": "code",
   "execution_count": 14,
   "metadata": {},
   "outputs": [],
   "source": [
    "from pyowm.utils import timestamps"
   ]
  },
  {
   "cell_type": "code",
   "execution_count": 17,
   "metadata": {},
   "outputs": [
    {
     "data": {
      "text/plain": [
       "datetime.datetime(2021, 11, 26, 4, 0, tzinfo=datetime.timezone.utc)"
      ]
     },
     "execution_count": 17,
     "metadata": {},
     "output_type": "execute_result"
    }
   ],
   "source": [
    "timestamps.tomorrow()"
   ]
  },
  {
   "cell_type": "code",
   "execution_count": 11,
   "metadata": {},
   "outputs": [
    {
     "ename": "TypeError",
     "evalue": "locations_for() missing 1 required positional argument: 'city_name'",
     "output_type": "error",
     "traceback": [
      "\u001b[0;31m---------------------------------------------------------------------------\u001b[0m",
      "\u001b[0;31mTypeError\u001b[0m                                 Traceback (most recent call last)",
      "\u001b[0;32m/var/folders/2g/465yxy_x4g786jx2llr5xqh40000gn/T/ipykernel_66980/1967201328.py\u001b[0m in \u001b[0;36m<module>\u001b[0;34m\u001b[0m\n\u001b[1;32m      1\u001b[0m \u001b[0mreg\u001b[0m \u001b[0;34m=\u001b[0m \u001b[0mowm\u001b[0m\u001b[0;34m.\u001b[0m\u001b[0mcity_id_registry\u001b[0m\u001b[0;34m(\u001b[0m\u001b[0;34m)\u001b[0m\u001b[0;34m\u001b[0m\u001b[0;34m\u001b[0m\u001b[0m\n\u001b[0;32m----> 2\u001b[0;31m \u001b[0mlist_of_locations\u001b[0m \u001b[0;34m=\u001b[0m \u001b[0mreg\u001b[0m\u001b[0;34m.\u001b[0m\u001b[0mlocations_for\u001b[0m\u001b[0;34m(\u001b[0m\u001b[0mcountry\u001b[0m\u001b[0;34m=\u001b[0m\u001b[0;34m'US'\u001b[0m\u001b[0;34m)\u001b[0m\u001b[0;34m\u001b[0m\u001b[0;34m\u001b[0m\u001b[0m\n\u001b[0m",
      "\u001b[0;31mTypeError\u001b[0m: locations_for() missing 1 required positional argument: 'city_name'"
     ]
    }
   ],
   "source": [
    "reg = owm.city_id_registry()\n",
    "list_of_locations = reg.locations_for(country='US')"
   ]
  },
  {
   "cell_type": "code",
   "execution_count": 10,
   "metadata": {},
   "outputs": [
    {
     "data": {
      "text/plain": [
       "[]"
      ]
     },
     "execution_count": 10,
     "metadata": {},
     "output_type": "execute_result"
    }
   ],
   "source": [
    "list_of_locations"
   ]
  },
  {
   "cell_type": "code",
   "execution_count": 13,
   "metadata": {},
   "outputs": [
    {
     "data": {
      "text/plain": [
       "{'ref_time': 1637812372,\n",
       " 'sset_time': 1637791441,\n",
       " 'srise_time': 1637757258,\n",
       " 'clouds': 90,\n",
       " 'rain': {},\n",
       " 'snow': {},\n",
       " 'wnd': {'speed': 1.79, 'deg': 179, 'gust': 3.13},\n",
       " 'humidity': 69,\n",
       " 'pressure': {'press': 1016, 'sea_level': None},\n",
       " 'temp': {'temp': 280.26,\n",
       "  'temp_kf': None,\n",
       "  'temp_max': 281.66,\n",
       "  'temp_min': 278.64,\n",
       "  'feels_like': 279.18},\n",
       " 'status': 'Clouds',\n",
       " 'detailed_status': 'overcast clouds',\n",
       " 'weather_code': 804,\n",
       " 'weather_icon_name': '04n',\n",
       " 'visibility_distance': 10000,\n",
       " 'dewpoint': None,\n",
       " 'humidex': None,\n",
       " 'heat_index': None,\n",
       " 'utc_offset': -18000,\n",
       " 'uvi': None,\n",
       " 'precipitation_probability': None}"
      ]
     },
     "execution_count": 13,
     "metadata": {},
     "output_type": "execute_result"
    }
   ],
   "source": [
    "weather.__dict__"
   ]
  },
  {
   "cell_type": "code",
   "execution_count": 4,
   "metadata": {},
   "outputs": [
    {
     "data": {
      "text/plain": [
       "{'temp': 40.55,\n",
       " 'temp_max': 44.94,\n",
       " 'temp_min': 33.42,\n",
       " 'feels_like': 40.55,\n",
       " 'temp_kf': None}"
      ]
     },
     "execution_count": 4,
     "metadata": {},
     "output_type": "execute_result"
    }
   ],
   "source": [
    "temp_dict_fahrenheit"
   ]
  },
  {
   "cell_type": "markdown",
   "metadata": {},
   "source": [
    "### Temp data - Could be replaced by data from database"
   ]
  },
  {
   "cell_type": "code",
   "execution_count": 2,
   "metadata": {},
   "outputs": [],
   "source": [
    "#Get user data (stored in json file)\n",
    "with open('weather_users.txt', 'r') as f:  \n",
    "    users = json.load(f)\n",
    "f.close()\n",
    "\n",
    "#Get password\n",
    "with open('weather_pass.txt', 'r') as f:\n",
    "    password = f.readline()\n",
    "f.close()\n",
    "\n",
    "#Set up other variables\n",
    "start_time = datetime.time(7)\n",
    "end_time = datetime.time(21)\n",
    "execute_time = '7:00'\n"
   ]
  },
  {
   "cell_type": "markdown",
   "metadata": {},
   "source": [
    "### Functions"
   ]
  },
  {
   "cell_type": "code",
   "execution_count": 3,
   "metadata": {},
   "outputs": [],
   "source": [
    "carriers = {\n",
    "'att':    '@mms.att.net',\n",
    "'tmobile':' @tmomail.net',\n",
    "'verizon':  '@vtext.com',\n",
    "'sprint':   '@page.nextel.com'\n",
    "}\n",
    "\n",
    "def send(message, to_number, carrier):\n",
    "    \n",
    "    #try except for carrier \n",
    "    to_number = to_number + '{}'.format(carriers[carrier.lower()])\n",
    "\n",
    "    auth = ('weatherinfotoday@gmail.com', 'Itsyaboy')\n",
    "\n",
    "    # Establish a session with gmail's outgoing SMTP server\n",
    "    # Need to have google allow less secure apps to make this work\n",
    "    server = smtplib.SMTP(\"smtp.gmail.com\", 587)\n",
    "    server.starttls()\n",
    "    server.login(auth[0], auth[1])\n",
    "\n",
    "    #Send text message through SMS gateway of destination number\n",
    "    server.sendmail(auth[0], to_number, message)"
   ]
  },
  {
   "cell_type": "markdown",
   "metadata": {},
   "source": [
    "### Get Data"
   ]
  },
  {
   "cell_type": "code",
   "execution_count": 4,
   "metadata": {},
   "outputs": [],
   "source": [
    "def convert_time_zone(start, convert_to):\n",
    "    \n",
    "    gmt = pytz.timezone('GMT')\n",
    "    new_time_zone = pytz.timezone(convert_to)\n",
    "    end_time = start.astimezone(new_time_zone)\n",
    "    \n",
    "    return end_time\n",
    "    "
   ]
  },
  {
   "cell_type": "code",
   "execution_count": 5,
   "metadata": {},
   "outputs": [],
   "source": [
    "def generate_message(location):\n",
    "\n",
    "    owm = pyowm.OWM('08ce08de126e25469062d11550ee8e4c') \n",
    "    fc = owm.three_hours_forecast(location)\n",
    "    f = fc.get_forecast()\n",
    "\n",
    "    df_columns = ['date_time', 'conditions', 'temp']\n",
    "    data = []\n",
    "    \n",
    "    #Get data for each three hour period\n",
    "    for weather in f:\n",
    "        ref_time = weather.get_reference_time('date')\n",
    "        date_time = convert_time_zone(ref_time, 'US/Eastern')\n",
    "        conditions = weather.get_status()\n",
    "        temp =  weather.get_temperature('fahrenheit')['temp_min']\n",
    "        row = [date_time, conditions, temp]\n",
    "        data.append(dict(zip(df_columns, row)))\n",
    "    \n",
    "    #Convert to dataframe\n",
    "    weather_hours = pd.DataFrame(data)\n",
    "    weather_hours['date'] = weather_hours['date_time'].apply(lambda x: x.date())\n",
    "    weather_hours['time'] = weather_hours['date_time'].apply(lambda x: x.time())\n",
    "    weather_hours['rain'] = weather_hours['conditions'].apply(lambda x: 1 if x == 'Rain' else 0)\n",
    "    weather_hours['snow'] = weather_hours['conditions'].apply(lambda x: 1 if x == 'Snow' else 0)\n",
    "\n",
    "    #Filter to only hours we care about \n",
    "    weather_hours = weather_hours[(weather_hours['time'] >= start_time) & (weather_hours['time'] <= end_time)]\n",
    "    \n",
    "    #Convert to full-day view \n",
    "    agg_cols = {\"temp\":[\"max\", \"min\"], \"snow\": \"max\", \"rain\": \"max\"}\n",
    "    weather_days = weather_hours.groupby('date').agg(agg_cols).reset_index()\n",
    "    weather_days.columns = ['date', 'temp_max', 'temp_min', 'will_snow', 'will_rain']\n",
    "    \n",
    "    \n",
    "    #Add the day's weather to historical database\n",
    "    latest_weather = weather_days.iloc[0:1,:]\n",
    "    weather_history = pd.read_pickle('weather_history.pkl')\n",
    "    weather_history_new = weather_history.append(latest_weather, ignore_index=True)\n",
    "    weather_history_new.to_pickle('weather_history.pkl')\n",
    "    \n",
    "    #Get variables for message \n",
    "    max_today = weather_days.iloc[0:1,:].temp_max.item()\n",
    "    min_today = weather_days.iloc[0:1,:].temp_min.item()\n",
    "    snow_today = weather_days.iloc[0:1,:].will_snow.item()\n",
    "    rain_today = weather_days.iloc[0:1,:].will_rain.item()\n",
    "    \n",
    "    #Generate message\n",
    "    min_max = \"Expect a low of {}F and a high of {}F.\".format(round(min_today), round(max_today))\n",
    "    \n",
    "    if snow_today == 1 and rain_today == 1:\n",
    "        message = \"It may snow and rain today. \" + min_max\n",
    "\n",
    "    if snow_today == 1:\n",
    "        message = \"It may snow today. \" + min_max\n",
    "\n",
    "    if rain_today == 1:\n",
    "        message = \"It may rain today. \" + min_max\n",
    "\n",
    "    else:\n",
    "        message = \"No rain or snow forecasted. \" + min_max\n",
    "\n",
    "    return message"
   ]
  },
  {
   "cell_type": "code",
   "execution_count": 6,
   "metadata": {},
   "outputs": [
    {
     "ename": "KeyboardInterrupt",
     "evalue": "",
     "output_type": "error",
     "traceback": [
      "\u001b[0;31m---------------------------------------------------------------------------\u001b[0m",
      "\u001b[0;31mKeyboardInterrupt\u001b[0m                         Traceback (most recent call last)",
      "\u001b[0;32m<ipython-input-6-0a4aba175c61>\u001b[0m in \u001b[0;36m<module>\u001b[0;34m\u001b[0m\n\u001b[1;32m      8\u001b[0m \u001b[0;32mwhile\u001b[0m \u001b[0;32mTrue\u001b[0m\u001b[0;34m:\u001b[0m\u001b[0;34m\u001b[0m\u001b[0;34m\u001b[0m\u001b[0m\n\u001b[1;32m      9\u001b[0m     \u001b[0mschedule\u001b[0m\u001b[0;34m.\u001b[0m\u001b[0mrun_pending\u001b[0m\u001b[0;34m(\u001b[0m\u001b[0;34m)\u001b[0m\u001b[0;34m\u001b[0m\u001b[0;34m\u001b[0m\u001b[0m\n\u001b[0;32m---> 10\u001b[0;31m     \u001b[0mtime\u001b[0m\u001b[0;34m.\u001b[0m\u001b[0msleep\u001b[0m\u001b[0;34m(\u001b[0m\u001b[0;36m60\u001b[0m\u001b[0;34m)\u001b[0m \u001b[0;31m# wait one minute\u001b[0m\u001b[0;34m\u001b[0m\u001b[0;34m\u001b[0m\u001b[0m\n\u001b[0m",
      "\u001b[0;31mKeyboardInterrupt\u001b[0m: "
     ]
    }
   ],
   "source": [
    "def job():\n",
    "    for user in users:\n",
    "        message = generate_message(user['location'])\n",
    "        send(message, user['phone_number'], user['carrier'])\n",
    "\n",
    "schedule.every().day.at(execute_time).do(job)\n",
    "\n",
    "while True:\n",
    "    schedule.run_pending()\n",
    "    time.sleep(60) # wait one minute"
   ]
  },
  {
   "cell_type": "markdown",
   "metadata": {},
   "source": [
    "### Test and scrap"
   ]
  },
  {
   "cell_type": "code",
   "execution_count": 7,
   "metadata": {},
   "outputs": [],
   "source": [
    "for user in users:\n",
    "    message = generate_message(user['location'])\n",
    "    send(message, user['phone_number'], user['carrier'])\n"
   ]
  },
  {
   "cell_type": "code",
   "execution_count": null,
   "metadata": {},
   "outputs": [],
   "source": [
    "#Code to create users in the first place\n",
    "weather_users = [] \n",
    "\n",
    "weather_users.append({'location': 'New York, New York',\n",
    "        'phone_number': '5167762241',\n",
    "        'carrier': 'att'})\n",
    "\n",
    "weather_users.append({'location': 'New York, New York',\n",
    "        'phone_number': '8458262769',\n",
    "        'carrier': 'Verizon'})\n",
    "\n",
    "with open('weather_users.txt', 'w') as outfile:  \n",
    "    json.dump(weather_users, outfile)"
   ]
  },
  {
   "cell_type": "markdown",
   "metadata": {},
   "source": [
    "Sources:\n",
    "https://www.reddit.com/r/Python/comments/8gb88e/free_alternatives_to_twilio_for_sending_text/\n",
    "https://stackoverflow.com/questions/15088037/python-script-to-do-something-at-the-same-time-every-day"
   ]
  }
 ],
 "metadata": {
  "kernelspec": {
   "display_name": "Python 3 (ipykernel)",
   "language": "python",
   "name": "python3"
  },
  "language_info": {
   "codemirror_mode": {
    "name": "ipython",
    "version": 3
   },
   "file_extension": ".py",
   "mimetype": "text/x-python",
   "name": "python",
   "nbconvert_exporter": "python",
   "pygments_lexer": "ipython3",
   "version": "3.8.2"
  }
 },
 "nbformat": 4,
 "nbformat_minor": 2
}
