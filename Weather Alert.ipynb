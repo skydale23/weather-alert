{
 "cells": [
  {
   "cell_type": "markdown",
   "metadata": {},
   "source": [
    "### Import Packages"
   ]
  },
  {
   "cell_type": "code",
   "execution_count": 1,
   "metadata": {},
   "outputs": [],
   "source": [
    "import smtplib\n",
    "import schedule\n",
    "import time\n",
    "import pytz\n",
    "import pyowm\n",
    "import pandas as pd\n",
    "import datetime \n",
    "import json\n",
    "import pickle"
   ]
  },
  {
   "cell_type": "markdown",
   "metadata": {},
   "source": [
    "### Temp data - Could be replaced by data from database"
   ]
  },
  {
   "cell_type": "code",
   "execution_count": 2,
   "metadata": {},
   "outputs": [],
   "source": [
    "#Get user data (stored in json file)\n",
    "with open('weather_users.txt', 'r') as f:  \n",
    "    users = json.load(f)\n",
    "f.close()\n",
    "\n",
    "#Get password\n",
    "with open('weather_pass.txt', 'r') as f:\n",
    "    password = f.readline()\n",
    "f.close()\n",
    "\n",
    "#Set up other variables\n",
    "start_time = datetime.time(7)\n",
    "end_time = datetime.time(21)\n",
    "execute_time = '7:00'\n"
   ]
  },
  {
   "cell_type": "markdown",
   "metadata": {},
   "source": [
    "### Functions"
   ]
  },
  {
   "cell_type": "code",
   "execution_count": 3,
   "metadata": {},
   "outputs": [],
   "source": [
    "carriers = {\n",
    "'att':    '@mms.att.net',\n",
    "'tmobile':' @tmomail.net',\n",
    "'verizon':  '@vtext.com',\n",
    "'sprint':   '@page.nextel.com'\n",
    "}\n",
    "\n",
    "def send(message, to_number, carrier):\n",
    "    \n",
    "    #try except for carrier \n",
    "    to_number = to_number + '{}'.format(carriers[carrier.lower()])\n",
    "\n",
    "    auth = ('weatherinfotoday@gmail.com', 'Itsyaboy')\n",
    "\n",
    "    # Establish a session with gmail's outgoing SMTP server\n",
    "    # Need to have google allow less secure apps to make this work\n",
    "    server = smtplib.SMTP(\"smtp.gmail.com\", 587)\n",
    "    server.starttls()\n",
    "    server.login(auth[0], auth[1])\n",
    "\n",
    "    #Send text message through SMS gateway of destination number\n",
    "    server.sendmail(auth[0], to_number, message)"
   ]
  },
  {
   "cell_type": "markdown",
   "metadata": {},
   "source": [
    "### Get Data"
   ]
  },
  {
   "cell_type": "code",
   "execution_count": 4,
   "metadata": {},
   "outputs": [],
   "source": [
    "def convert_time_zone(start, convert_to):\n",
    "    \n",
    "    gmt = pytz.timezone('GMT')\n",
    "    new_time_zone = pytz.timezone(convert_to)\n",
    "    end_time = start.astimezone(new_time_zone)\n",
    "    \n",
    "    return end_time\n",
    "    "
   ]
  },
  {
   "cell_type": "code",
   "execution_count": 5,
   "metadata": {},
   "outputs": [],
   "source": [
    "def generate_message(location):\n",
    "\n",
    "    owm = pyowm.OWM('08ce08de126e25469062d11550ee8e4c') \n",
    "    fc = owm.three_hours_forecast(location)\n",
    "    f = fc.get_forecast()\n",
    "\n",
    "    df_columns = ['date_time', 'conditions', 'temp']\n",
    "    data = []\n",
    "    \n",
    "    #Get data for each three hour period\n",
    "    for weather in f:\n",
    "        ref_time = weather.get_reference_time('date')\n",
    "        date_time = convert_time_zone(ref_time, 'US/Eastern')\n",
    "        conditions = weather.get_status()\n",
    "        temp =  weather.get_temperature('fahrenheit')['temp_min']\n",
    "        row = [date_time, conditions, temp]\n",
    "        data.append(dict(zip(df_columns, row)))\n",
    "    \n",
    "    #Convert to dataframe\n",
    "    weather_hours = pd.DataFrame(data)\n",
    "    weather_hours['date'] = weather_hours['date_time'].apply(lambda x: x.date())\n",
    "    weather_hours['time'] = weather_hours['date_time'].apply(lambda x: x.time())\n",
    "    weather_hours['rain'] = weather_hours['conditions'].apply(lambda x: 1 if x == 'Rain' else 0)\n",
    "    weather_hours['snow'] = weather_hours['conditions'].apply(lambda x: 1 if x == 'Snow' else 0)\n",
    "\n",
    "    #Filter to only hours we care about \n",
    "    weather_hours = weather_hours[(weather_hours['time'] >= start_time) & (weather_hours['time'] <= end_time)]\n",
    "    \n",
    "    #Convert to full-day view \n",
    "    agg_cols = {\"temp\":[\"max\", \"min\"], \"snow\": \"max\", \"rain\": \"max\"}\n",
    "    weather_days = weather_hours.groupby('date').agg(agg_cols).reset_index()\n",
    "    weather_days.columns = ['date', 'temp_max', 'temp_min', 'will_snow', 'will_rain']\n",
    "    \n",
    "    \n",
    "    #Add the day's weather to historical database\n",
    "    latest_weather = weather_days.iloc[0:1,:]\n",
    "    weather_history = pd.read_pickle('weather_history.pkl')\n",
    "    weather_history_new = weather_history.append(latest_weather, ignore_index=True)\n",
    "    weather_history_new.to_pickle('weather_history.pkl')\n",
    "    \n",
    "    #Get variables for message \n",
    "    max_today = weather_days.iloc[0:1,:].temp_max.item()\n",
    "    min_today = weather_days.iloc[0:1,:].temp_min.item()\n",
    "    snow_today = weather_days.iloc[0:1,:].will_snow.item()\n",
    "    rain_today = weather_days.iloc[0:1,:].will_rain.item()\n",
    "    \n",
    "    #Generate message\n",
    "    min_max = \"Expect a low of {}F and a high of {}F.\".format(round(min_today), round(max_today))\n",
    "    \n",
    "    if snow_today == 1 and rain_today == 1:\n",
    "        message = \"It may snow and rain today. \" + min_max\n",
    "\n",
    "    if snow_today == 1:\n",
    "        message = \"It may snow today. \" + min_max\n",
    "\n",
    "    if rain_today == 1:\n",
    "        message = \"It may rain today. \" + min_max\n",
    "\n",
    "    else:\n",
    "        message = \"No rain or snow forecasted. \" + min_max\n",
    "\n",
    "    return message"
   ]
  },
  {
   "cell_type": "code",
   "execution_count": 6,
   "metadata": {},
   "outputs": [
    {
     "ename": "KeyboardInterrupt",
     "evalue": "",
     "output_type": "error",
     "traceback": [
      "\u001b[0;31m---------------------------------------------------------------------------\u001b[0m",
      "\u001b[0;31mKeyboardInterrupt\u001b[0m                         Traceback (most recent call last)",
      "\u001b[0;32m<ipython-input-6-0a4aba175c61>\u001b[0m in \u001b[0;36m<module>\u001b[0;34m\u001b[0m\n\u001b[1;32m      8\u001b[0m \u001b[0;32mwhile\u001b[0m \u001b[0;32mTrue\u001b[0m\u001b[0;34m:\u001b[0m\u001b[0;34m\u001b[0m\u001b[0;34m\u001b[0m\u001b[0m\n\u001b[1;32m      9\u001b[0m     \u001b[0mschedule\u001b[0m\u001b[0;34m.\u001b[0m\u001b[0mrun_pending\u001b[0m\u001b[0;34m(\u001b[0m\u001b[0;34m)\u001b[0m\u001b[0;34m\u001b[0m\u001b[0;34m\u001b[0m\u001b[0m\n\u001b[0;32m---> 10\u001b[0;31m     \u001b[0mtime\u001b[0m\u001b[0;34m.\u001b[0m\u001b[0msleep\u001b[0m\u001b[0;34m(\u001b[0m\u001b[0;36m60\u001b[0m\u001b[0;34m)\u001b[0m \u001b[0;31m# wait one minute\u001b[0m\u001b[0;34m\u001b[0m\u001b[0;34m\u001b[0m\u001b[0m\n\u001b[0m",
      "\u001b[0;31mKeyboardInterrupt\u001b[0m: "
     ]
    }
   ],
   "source": [
    "def job():\n",
    "    for user in users:\n",
    "        message = generate_message(user['location'])\n",
    "        send(message, user['phone_number'], user['carrier'])\n",
    "\n",
    "schedule.every().day.at(execute_time).do(job)\n",
    "\n",
    "while True:\n",
    "    schedule.run_pending()\n",
    "    time.sleep(60) # wait one minute"
   ]
  },
  {
   "cell_type": "markdown",
   "metadata": {},
   "source": [
    "### Test and scrap"
   ]
  },
  {
   "cell_type": "code",
   "execution_count": 7,
   "metadata": {},
   "outputs": [],
   "source": [
    "for user in users:\n",
    "    message = generate_message(user['location'])\n",
    "    send(message, user['phone_number'], user['carrier'])\n"
   ]
  },
  {
   "cell_type": "code",
   "execution_count": null,
   "metadata": {},
   "outputs": [],
   "source": [
    "#Code to create users in the first place\n",
    "weather_users = [] \n",
    "\n",
    "weather_users.append({'location': 'New York, New York',\n",
    "        'phone_number': '5167762241',\n",
    "        'carrier': 'att'})\n",
    "\n",
    "weather_users.append({'location': 'New York, New York',\n",
    "        'phone_number': '8458262769',\n",
    "        'carrier': 'Verizon'})\n",
    "\n",
    "with open('weather_users.txt', 'w') as outfile:  \n",
    "    json.dump(weather_users, outfile)"
   ]
  },
  {
   "cell_type": "markdown",
   "metadata": {},
   "source": [
    "Sources:\n",
    "https://www.reddit.com/r/Python/comments/8gb88e/free_alternatives_to_twilio_for_sending_text/\n",
    "https://stackoverflow.com/questions/15088037/python-script-to-do-something-at-the-same-time-every-day"
   ]
  }
 ],
 "metadata": {
  "kernelspec": {
   "display_name": "Python 3",
   "language": "python",
   "name": "python3"
  },
  "language_info": {
   "codemirror_mode": {
    "name": "ipython",
    "version": 3
   },
   "file_extension": ".py",
   "mimetype": "text/x-python",
   "name": "python",
   "nbconvert_exporter": "python",
   "pygments_lexer": "ipython3",
   "version": "3.7.1"
  }
 },
 "nbformat": 4,
 "nbformat_minor": 2
}
